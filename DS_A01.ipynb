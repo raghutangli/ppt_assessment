{
 "cells": [
  {
   "cell_type": "code",
   "execution_count": 1,
   "id": "94b7defb",
   "metadata": {},
   "outputs": [
    {
     "name": "stdout",
     "output_type": "stream",
     "text": [
      "abcdef\n"
     ]
    },
    {
     "data": {
      "text/plain": [
       "'fedcba'"
      ]
     },
     "execution_count": 1,
     "metadata": {},
     "output_type": "execute_result"
    }
   ],
   "source": [
    "#Q1. Write a Python program to reverse a string without using any built-in string reversal functions.\n",
    "\n",
    "def reverse_string(s):\n",
    "    r = s[::-1]\n",
    "    return r\n",
    "\n",
    "\n",
    "s = input()\n",
    "reverse_string(s)"
   ]
  },
  {
   "cell_type": "code",
   "execution_count": 2,
   "id": "0c4da08a",
   "metadata": {},
   "outputs": [
    {
     "name": "stdout",
     "output_type": "stream",
     "text": [
      "kayak\n"
     ]
    },
    {
     "data": {
      "text/plain": [
       "True"
      ]
     },
     "execution_count": 2,
     "metadata": {},
     "output_type": "execute_result"
    }
   ],
   "source": [
    "#Q2. Implement a function to check if a given string is a palindrome.\n",
    "\n",
    "def is_palindrome(s):\n",
    "    \n",
    "    return s == s[::-1]\n",
    "\n",
    "    \n",
    "s = input()\n",
    "is_palindrome(s)"
   ]
  },
  {
   "cell_type": "code",
   "execution_count": 3,
   "id": "96e148f9",
   "metadata": {},
   "outputs": [
    {
     "data": {
      "text/plain": [
       "4184"
      ]
     },
     "execution_count": 3,
     "metadata": {},
     "output_type": "execute_result"
    }
   ],
   "source": [
    "#Q3. Write a program to find the largest element in a given list.\n",
    "\n",
    "def largest_number(l):\n",
    "    if len(l) == 0:\n",
    "        return None\n",
    "    \n",
    "    largest = l[0]\n",
    "    for i in l:\n",
    "        if i > largest:\n",
    "            largest = i\n",
    "    return largest\n",
    "\n",
    "l = [56,95,435,284,4184,455,15,6,21,562,15,6,1]\n",
    "largest_number(l)"
   ]
  },
  {
   "cell_type": "code",
   "execution_count": 6,
   "id": "597481b6",
   "metadata": {},
   "outputs": [
    {
     "data": {
      "text/plain": [
       "{8: 5, 6: 1, 10: 2, 20: 1}"
      ]
     },
     "execution_count": 6,
     "metadata": {},
     "output_type": "execute_result"
    }
   ],
   "source": [
    "#Q4. Implement a function to count the occurrence of each element in a list.\n",
    "\n",
    "\n",
    "def count_occurance(lst):\n",
    "    occurance = {}\n",
    "    for ele in lst:\n",
    "        if ele in occurance:\n",
    "            occurance[ele] +=1\n",
    "        \n",
    "        else:\n",
    "            occurance[ele] = 1\n",
    "    return occurance\n",
    "lst_o = [8, 6, 8, 10, 8, 20, 10, 8, 8]\n",
    "\n",
    "count_occurance(lst_o)"
   ]
  },
  {
   "cell_type": "code",
   "execution_count": 16,
   "id": "e2f1d4ca",
   "metadata": {},
   "outputs": [
    {
     "data": {
      "text/plain": [
       "8"
      ]
     },
     "execution_count": 16,
     "metadata": {},
     "output_type": "execute_result"
    }
   ],
   "source": [
    "#Q5. Write a Python program to find the second largest number in a list.\n",
    "\n",
    "\n",
    "def second_largest(lst):\n",
    "    if len(lst) < 2:\n",
    "        return None\n",
    "    \n",
    "    largest = max(lst[0],lst[1])\n",
    "    second_largest = min(lst[0],lst[1])\n",
    "    \n",
    "    for ele in lst[2:]:\n",
    "        if ele > largest:\n",
    "            second_largest = largest\n",
    "            largest = ele\n",
    "            \n",
    "        elif ele > second_largest:\n",
    "            second_largest = ele\n",
    "            \n",
    "    return second_largest\n",
    "\n",
    "sec_large = [1,2,3,4,5,6,7,8,9]\n",
    "second_largest(sec_large)"
   ]
  },
  {
   "cell_type": "code",
   "execution_count": 21,
   "id": "84314ca7",
   "metadata": {},
   "outputs": [
    {
     "data": {
      "text/plain": [
       "[1, 5, 2, 7, 4, 3, 21]"
      ]
     },
     "execution_count": 21,
     "metadata": {},
     "output_type": "execute_result"
    }
   ],
   "source": [
    "#Q6. Implement a function to remove duplicate elements from a list.\n",
    "\n",
    "def remove_duplicate(lst):\n",
    "    lst_1 = []\n",
    "    \n",
    "    for i in lst:\n",
    "        if i not in lst_1:\n",
    "            lst_1.append(i)\n",
    "    return lst_1\n",
    "\n",
    "rem_dup = [1,5,2,7,4,2,1,7,5,3,21,1]\n",
    "remove_duplicate(rem_dup)\n",
    "    "
   ]
  },
  {
   "cell_type": "code",
   "execution_count": 27,
   "id": "783ee580",
   "metadata": {},
   "outputs": [
    {
     "data": {
      "text/plain": [
       "120"
      ]
     },
     "execution_count": 27,
     "metadata": {},
     "output_type": "execute_result"
    }
   ],
   "source": [
    "#Q7. Write a program to calculate the factorial of a given number.\n",
    "\n",
    "def factorial(n):\n",
    "    fact = 1\n",
    "    if n < 0:\n",
    "        return None\n",
    "    elif n == 0:\n",
    "        return 1\n",
    "    else:\n",
    "        for i in range(1,n+1):\n",
    "            fact *= i\n",
    "    return fact\n",
    "\n",
    "factorial(5)       "
   ]
  },
  {
   "cell_type": "code",
   "execution_count": 28,
   "id": "86967535",
   "metadata": {},
   "outputs": [
    {
     "data": {
      "text/plain": [
       "False"
      ]
     },
     "execution_count": 28,
     "metadata": {},
     "output_type": "execute_result"
    }
   ],
   "source": [
    "#Q8. Implement a function to check if a given number is prime.\n",
    "\n",
    "\n",
    "def is_prime(n):\n",
    "    if n < 2:\n",
    "        return False\n",
    "\n",
    "    for i in range(2, int(n**0.5) + 1):\n",
    "        if n % i == 0:\n",
    "            return False\n",
    "\n",
    "    return True\n",
    "\n",
    "n = 10\n",
    "is_prime(n)\n"
   ]
  },
  {
   "cell_type": "code",
   "execution_count": 32,
   "id": "0522683b",
   "metadata": {},
   "outputs": [
    {
     "data": {
      "text/plain": [
       "[1, 3, 4, 6, 7, 8, 9]"
      ]
     },
     "execution_count": 32,
     "metadata": {},
     "output_type": "execute_result"
    }
   ],
   "source": [
    "#Q9. Write a Python program to sort a list of integers in ascending order.\n",
    "\n",
    "def sorted_list(lst):\n",
    "    for i in range(len(lst)):\n",
    "        for j in range(i+1,len(lst)):\n",
    "            if lst[i] > lst[j]:\n",
    "                lst[i],lst[j] = lst[j],lst[i]\n",
    "    return lst\n",
    "\n",
    "sort_list = [3,7,9,4,1,6,8]\n",
    "sorted_list(sort_list)"
   ]
  },
  {
   "cell_type": "code",
   "execution_count": 33,
   "id": "dc1ece60",
   "metadata": {},
   "outputs": [
    {
     "data": {
      "text/plain": [
       "38"
      ]
     },
     "execution_count": 33,
     "metadata": {},
     "output_type": "execute_result"
    }
   ],
   "source": [
    "#Q10. Implement a function to find the sum of all numbers in a list.\n",
    "\n",
    "def sum_numbers(lst):\n",
    "    s = 0\n",
    "    for i in lst:\n",
    "        s += i\n",
    "    return s\n",
    "\n",
    "s = [3,7,9,4,1,6,8]\n",
    "sum_numbers(s)\n"
   ]
  },
  {
   "cell_type": "code",
   "execution_count": 34,
   "id": "40d49f99",
   "metadata": {},
   "outputs": [
    {
     "data": {
      "text/plain": [
       "[25, 30]"
      ]
     },
     "execution_count": 34,
     "metadata": {},
     "output_type": "execute_result"
    }
   ],
   "source": [
    "#Q11. Write a program to find the common elements between two lists.\n",
    "\n",
    "def common_elements(lst1,lst2):\n",
    "    new_list = []\n",
    "    for i in lst1:\n",
    "        if i in lst2:\n",
    "            new_list.append(i)\n",
    "    return new_list\n",
    "\n",
    "lst1 = [10,25,30,50]\n",
    "lst2 = [30,60,25,80]\n",
    "\n",
    "common_elements(lst1,lst2)\n"
   ]
  },
  {
   "cell_type": "code",
   "execution_count": 48,
   "id": "26d3695e",
   "metadata": {},
   "outputs": [
    {
     "name": "stdout",
     "output_type": "stream",
     "text": [
      "listen and silent is anagram\n"
     ]
    }
   ],
   "source": [
    "#Q12. Implement a function to check if a given string is an anagram of another string.\n",
    "\n",
    "\n",
    "def is_anagram(str1,str2):\n",
    "    str1 = str1.lower()\n",
    "    str2 = str2.lower()\n",
    "\n",
    "    if len(str1)==len(str2):\n",
    "        s1 = sorted(str1)\n",
    "        s2 = sorted(str2)\n",
    "        \n",
    "        if s1 == s2:\n",
    "            print(\"{} and {} is anagram\".format(str1,str2))\n",
    "        \n",
    "        else:\n",
    "            print(\"{} and {} is not anagram\".format(str1,str2))\n",
    "                \n",
    "\n",
    "str1 = \"listen\"\n",
    "str2 = \"Silent\"\n",
    "\n",
    "is_anagram(str1,str2)"
   ]
  },
  {
   "cell_type": "code",
   "execution_count": 52,
   "id": "92e2772a",
   "metadata": {
    "scrolled": true
   },
   "outputs": [
    {
     "name": "stdout",
     "output_type": "stream",
     "text": [
      "rcb\n",
      "rbc\n",
      "crb\n",
      "cbr\n",
      "bcr\n",
      "brc\n",
      "None\n"
     ]
    }
   ],
   "source": [
    "#Q13. Write a Python program to generate all permutations of a given string.\n",
    "\n",
    "\n",
    "def get_permutation(string, i=0):\n",
    "\n",
    "    if i == len(string):\n",
    "        print(\"\".join(string))\n",
    "\n",
    "    for j in range(i, len(string)):\n",
    "\n",
    "        words = [c for c in string]\n",
    "        words[i], words[j] = words[j], words[i]\n",
    "        get_permutation(words, i + 1)\n",
    "\n",
    "print(get_permutation('rcb'))"
   ]
  },
  {
   "cell_type": "code",
   "execution_count": 57,
   "id": "2b45805b",
   "metadata": {},
   "outputs": [
    {
     "data": {
      "text/plain": [
       "1"
      ]
     },
     "execution_count": 57,
     "metadata": {},
     "output_type": "execute_result"
    }
   ],
   "source": [
    "#Q14. Implement a function to calculate the Fibonacci sequence up to a given number of terms.\n",
    "\n",
    "def fibonacci(n):\n",
    "    a = 0\n",
    "    b = 1\n",
    "    if n < 0:\n",
    "        print(\"Incorrect input\")\n",
    "    elif n == 0:\n",
    "        return a\n",
    "    elif n == 1:\n",
    "        return b\n",
    "    else:\n",
    "        for i in range(2, n+1):\n",
    "            c = a + b\n",
    "            a = b\n",
    "            b = c\n",
    "    return b\n",
    "\n",
    "fibonacci(1)"
   ]
  },
  {
   "cell_type": "code",
   "execution_count": 64,
   "id": "9a0a43ac",
   "metadata": {},
   "outputs": [
    {
     "data": {
      "text/plain": [
       "27.5"
      ]
     },
     "execution_count": 64,
     "metadata": {},
     "output_type": "execute_result"
    }
   ],
   "source": [
    "#Q15. Write a program to find the median of a list of numbers.\n",
    "\n",
    "def find_median(lst):\n",
    "    n = len(lst)\n",
    "    m = n//2\n",
    "    lst.sort()\n",
    "    \n",
    "    if n%2 == 0:\n",
    "        return(lst[m-1]+lst[m])/2\n",
    "    else:\n",
    "        return lst[m]\n",
    "    \n",
    "l_m = [10,25,30,50]\n",
    "find_median(l_m)"
   ]
  },
  {
   "cell_type": "code",
   "execution_count": 71,
   "id": "323e48bd",
   "metadata": {},
   "outputs": [
    {
     "data": {
      "text/plain": [
       "False"
      ]
     },
     "execution_count": 71,
     "metadata": {},
     "output_type": "execute_result"
    }
   ],
   "source": [
    "#Q16. Implement a function to check if a given list is sorted in non-decreasing order.\n",
    "\n",
    "def is_sorted(lst):\n",
    "    for i in range(1,len(lst)):\n",
    "        if lst[i]<lst[i-1]:\n",
    "            return False\n",
    "    return True\n",
    "\n",
    "\n",
    "l_s = [10,25,10,50]\n",
    "is_sorted(l_s)\n",
    "         "
   ]
  },
  {
   "cell_type": "code",
   "execution_count": 73,
   "id": "8bcd77f9",
   "metadata": {},
   "outputs": [
    {
     "data": {
      "text/plain": [
       "[25, 30]"
      ]
     },
     "execution_count": 73,
     "metadata": {},
     "output_type": "execute_result"
    }
   ],
   "source": [
    "#Q17. Write a Python program to find the intersection of two lists.\n",
    "\n",
    "def intersection(lst1, lst2):\n",
    "    lst3 = [value for value in lst1 if value in lst2]\n",
    "    return lst3\n",
    "\n",
    "lst1 = [10,25,30,50]\n",
    "lst2 = [30,60,25,80]\n",
    "intersection(lst1, lst2)"
   ]
  },
  {
   "cell_type": "code",
   "execution_count": 75,
   "id": "49ff909e",
   "metadata": {},
   "outputs": [
    {
     "data": {
      "text/plain": [
       "6"
      ]
     },
     "execution_count": 75,
     "metadata": {},
     "output_type": "execute_result"
    }
   ],
   "source": [
    "#Q18. Implement a function to find the maximum subarray sum in a given list.\n",
    "\n",
    "def find_maximum_subarray_sum(lst):\n",
    "    current_sum = 0\n",
    "    max_sum = float('-inf')\n",
    "\n",
    "    for i in lst:\n",
    "        current_sum = max(i, current_sum + i)\n",
    "        max_sum = max(max_sum, current_sum)\n",
    "\n",
    "    return max_sum\n",
    "\n",
    "\n",
    "numbers_list = [-2, 1, -3, 4, -1, 2, 1, -5, 4]\n",
    "find_maximum_subarray_sum(numbers_list)\n",
    "\n"
   ]
  },
  {
   "cell_type": "code",
   "execution_count": 78,
   "id": "c7ef4d78",
   "metadata": {},
   "outputs": [
    {
     "data": {
      "text/plain": [
       "'Hll, Wrld!'"
      ]
     },
     "execution_count": 78,
     "metadata": {},
     "output_type": "execute_result"
    }
   ],
   "source": [
    "#Q19. Write a program to remove all vowels from a given string.\n",
    "\n",
    "def remove_vowels(s):\n",
    "    vowels = \"aeiouAEIOU\"\n",
    "    result = \"\"\n",
    "\n",
    "    for i in s:\n",
    "        if i not in vowels:\n",
    "            result += i\n",
    "\n",
    "    return result\n",
    "\n",
    "input_string = \"Hello, World!\"\n",
    "remove_vowels(input_string)\n",
    "s\n"
   ]
  },
  {
   "cell_type": "code",
   "execution_count": 79,
   "id": "17a633b6",
   "metadata": {},
   "outputs": [
    {
     "data": {
      "text/plain": [
       "'sentence given a in words of order the reverse to function a Implement'"
      ]
     },
     "execution_count": 79,
     "metadata": {},
     "output_type": "execute_result"
    }
   ],
   "source": [
    "#Q20. Implement a function to reverse the order of words in a given sentence.\n",
    "\n",
    "def reverse_sentence(sentence):\n",
    "    words = sentence.split()\n",
    "    reversed_words = words[::-1]\n",
    "    reversed_sentence = \" \".join(reversed_words)\n",
    "    return reversed_sentence\n",
    "\n",
    "\n",
    "\n",
    "input_sentence = \"Implement a function to reverse the order of words in a given sentence\"\n",
    "reverse_sentence(input_sentence)\n",
    "\n"
   ]
  },
  {
   "cell_type": "code",
   "execution_count": 80,
   "id": "efee303b",
   "metadata": {},
   "outputs": [
    {
     "name": "stdout",
     "output_type": "stream",
     "text": [
      "listen and silent is anagram\n"
     ]
    }
   ],
   "source": [
    "#Q21. Write a Python program to check if two strings are anagrams of each other.\n",
    "\n",
    "def is_anagram(str1,str2):\n",
    "    str1 = str1.lower()\n",
    "    str2 = str2.lower()\n",
    "\n",
    "    if len(str1)==len(str2):\n",
    "        s1 = sorted(str1)\n",
    "        s2 = sorted(str2)\n",
    "        \n",
    "        if s1 == s2:\n",
    "            print(\"{} and {} is anagram\".format(str1,str2))\n",
    "        \n",
    "        else:\n",
    "            print(\"{} and {} is not anagram\".format(str1,str2))\n",
    "                \n",
    "\n",
    "s1 = \"listen\"\n",
    "s2 = \"Silent\"\n",
    "\n",
    "is_anagram(s1,s2)"
   ]
  },
  {
   "cell_type": "code",
   "execution_count": 99,
   "id": "3691abff",
   "metadata": {},
   "outputs": [
    {
     "name": "stdout",
     "output_type": "stream",
     "text": [
      "a\n"
     ]
    }
   ],
   "source": [
    "#Q22. Implement a function to find the first non-repeating character in a string.\n",
    "\n",
    "def non_repeating(s):\n",
    "    for i in String:\n",
    "\n",
    "        count = 0\n",
    "        for j in String:\n",
    "\n",
    "            if i == j:\n",
    "                count+=1\n",
    "        if count > 1:\n",
    "            print(i)\n",
    "            break\n",
    "                \n",
    "\n",
    "\n",
    "non_str = \"banana\"\n",
    "non_repeating(non_str)"
   ]
  },
  {
   "cell_type": "code",
   "execution_count": 94,
   "id": "8f3807a6",
   "metadata": {},
   "outputs": [
    {
     "data": {
      "text/plain": [
       "[2, 2, 2, 7]"
      ]
     },
     "execution_count": 94,
     "metadata": {},
     "output_type": "execute_result"
    }
   ],
   "source": [
    "#Q23. Write a program to find the prime factors of a given number.\n",
    "\n",
    "def find_prime_factors(number):\n",
    "    prime_factors = []\n",
    "    divisor = 2\n",
    "\n",
    "    while divisor <= number:\n",
    "        if number % divisor == 0:\n",
    "            prime_factors.append(divisor)\n",
    "            number /= divisor\n",
    "        else:\n",
    "            divisor += 1\n",
    "\n",
    "    return prime_factors\n",
    "\n",
    "\n",
    "\n",
    "input_number = 56\n",
    "find_prime_factors(input_number)\n",
    "\n",
    "\n"
   ]
  },
  {
   "cell_type": "code",
   "execution_count": 100,
   "id": "aa9c33ef",
   "metadata": {},
   "outputs": [
    {
     "data": {
      "text/plain": [
       "True"
      ]
     },
     "execution_count": 100,
     "metadata": {},
     "output_type": "execute_result"
    }
   ],
   "source": [
    "#Q24. Implement a function to check if a given number is a power of two.\n",
    "\n",
    "def is_power_of_two(number):\n",
    "    if number <= 0:\n",
    "        return False\n",
    "\n",
    "    while number > 1:\n",
    "        if number % 2 != 0:\n",
    "            return False\n",
    "        number = number // 2\n",
    "\n",
    "    return True\n",
    "\n",
    "\n",
    "input_number = 16\n",
    "is_power_of_two(input_number)\n",
    "\n"
   ]
  },
  {
   "cell_type": "code",
   "execution_count": 106,
   "id": "cb37c00b",
   "metadata": {},
   "outputs": [
    {
     "name": "stdout",
     "output_type": "stream",
     "text": [
      "merge list [2, 3, 4, 5, 6, 7, 8, 10, 11, 11, 12]\n"
     ]
    }
   ],
   "source": [
    "#Q25. Write a Python program to merge two sorted lists into a single sorted list.\n",
    "\n",
    "def merge_two_lists(list1,list2):\n",
    "\n",
    "  return sorted(list1 + list2)\n",
    "\n",
    "print(\"merge list\",merge_two_lists([2,3,4,5,6],[7,8,12,10,11,11]))"
   ]
  },
  {
   "cell_type": "code",
   "execution_count": 125,
   "id": "964bd6f0",
   "metadata": {},
   "outputs": [
    {
     "data": {
      "text/plain": [
       "8"
      ]
     },
     "execution_count": 125,
     "metadata": {},
     "output_type": "execute_result"
    }
   ],
   "source": [
    "#Q26. Implement a function to find the mode of a list of numbers.\n",
    "\n",
    "def find_mode(lst):\n",
    "    occurance = {}\n",
    "    for ele in lst:\n",
    "        if ele in occurance:\n",
    "            occurance[ele] +=1\n",
    "        \n",
    "        else:\n",
    "            occurance[ele] = 1\n",
    "    return (max(occurance, key = occurance.get))\n",
    "\n",
    "lst_m = [8, 6, 8, 10, 8, 20, 10, 8, 8]\n",
    "find_mode(lst_m)\n"
   ]
  },
  {
   "cell_type": "code",
   "execution_count": 133,
   "id": "023e355f",
   "metadata": {},
   "outputs": [
    {
     "data": {
      "text/plain": [
       "14"
      ]
     },
     "execution_count": 133,
     "metadata": {},
     "output_type": "execute_result"
    }
   ],
   "source": [
    "#Q27. Write a program to find the greatest common divisor (GCD) of two numbers.\n",
    "\n",
    "def gcd(a, b):\n",
    " \n",
    "    result = min(a, b)\n",
    " \n",
    "    while result:\n",
    "        if a % result == 0 and b % result == 0:\n",
    "            break\n",
    "        result -= 1\n",
    " \n",
    "    return result\n",
    "\n",
    "gcd(98,56)"
   ]
  },
  {
   "cell_type": "code",
   "execution_count": 141,
   "id": "eb45921d",
   "metadata": {},
   "outputs": [
    {
     "data": {
      "text/plain": [
       "3.0"
      ]
     },
     "execution_count": 141,
     "metadata": {},
     "output_type": "execute_result"
    }
   ],
   "source": [
    "#Q28. Implement a function to calculate the square root of a given number.\n",
    "\n",
    "def sq_root(n):\n",
    "    return n**0.5\n",
    "\n",
    "sq_root(9)"
   ]
  },
  {
   "cell_type": "code",
   "execution_count": 192,
   "id": "5caa2577",
   "metadata": {},
   "outputs": [
    {
     "name": "stdout",
     "output_type": "stream",
     "text": [
      "mom is a palindrome word...\n"
     ]
    }
   ],
   "source": [
    "#Q29. Write a Python program to check if a given string is a valid palindrome ignoring non-alphanumeric characters.\n",
    "\n",
    "s1 = \"mom\"\n",
    "\n",
    "# print(reversed(s1).join(\" \"))\n",
    "\n",
    "if s1 == s1[::-1]:\n",
    "    print(f\"{s1} is a palindrome word...\")\n",
    "else:\n",
    "    print(f\"{s1} is not a palindrome word..\")\n"
   ]
  },
  {
   "cell_type": "code",
   "execution_count": 193,
   "id": "657fa5db",
   "metadata": {},
   "outputs": [
    {
     "name": "stdout",
     "output_type": "stream",
     "text": [
      "1\n"
     ]
    }
   ],
   "source": [
    "#Q30. Implement a function to find the minimum element in a rotated sorted list.\n",
    "\n",
    "\n",
    "def findMin(arr, N):\n",
    "    min_ele = arr[0];\n",
    "    \n",
    "    for i in range(1,N) :\n",
    "        if arr[i] < min_ele :\n",
    "            min_ele = arr[i]\n",
    " \n",
    "    return min_ele;\n",
    " \n",
    "# Driver program\n",
    "arr = [5, 6, 1, 2, 3, 4]\n",
    "N = len(arr)\n",
    " \n",
    "print(findMin(arr,N))\n",
    "\n"
   ]
  },
  {
   "cell_type": "code",
   "execution_count": 142,
   "id": "19eb8f8a",
   "metadata": {},
   "outputs": [
    {
     "data": {
      "text/plain": [
       "20"
      ]
     },
     "execution_count": 142,
     "metadata": {},
     "output_type": "execute_result"
    }
   ],
   "source": [
    "# 31. Write a program to find the sum of all even numbers in a list.\n",
    "\n",
    "def sum_numbers(lst):\n",
    "    s = 0\n",
    "    for i in lst:\n",
    "        if i%2 == 0:\n",
    "            s += i\n",
    "            \n",
    "    return s\n",
    "\n",
    "sum_numbers([3,6,8,4,9,5,2])"
   ]
  },
  {
   "cell_type": "code",
   "execution_count": 145,
   "id": "e60779aa",
   "metadata": {},
   "outputs": [
    {
     "name": "stdout",
     "output_type": "stream",
     "text": [
      "27\n"
     ]
    }
   ],
   "source": [
    "# 32. Implement a function to calculate the power of a number using recursion.\n",
    "\n",
    "def power_number(num, pow):\n",
    "    if pow == 1:\n",
    "        return num\n",
    "    \n",
    "    return num * power_number(num, pow-1)\n",
    "        \n",
    "print(power_number(3,3))"
   ]
  },
  {
   "cell_type": "code",
   "execution_count": 147,
   "id": "bad4c77a",
   "metadata": {},
   "outputs": [
    {
     "data": {
      "text/plain": [
       "[1, 2, 3, 4, 5, 6]"
      ]
     },
     "execution_count": 147,
     "metadata": {},
     "output_type": "execute_result"
    }
   ],
   "source": [
    "#Q33. Write a Python program to remove duplicates from a list while preserving the order.\n",
    "\n",
    "\n",
    "def remove_duplicates(lst):\n",
    "    seen = set()\n",
    "    result = []\n",
    "    for item in lst:\n",
    "        if item not in seen:\n",
    "            seen.add(item)\n",
    "            result.append(item)\n",
    "    return result\n",
    "\n",
    "\n",
    "list_duplicate = [1, 2, 3, 2, 4, 1, 5, 6, 5]\n",
    "remove_duplicates(list_duplicate)"
   ]
  },
  {
   "cell_type": "code",
   "execution_count": 148,
   "id": "77c5f616",
   "metadata": {},
   "outputs": [
    {
     "name": "stdout",
     "output_type": "stream",
     "text": [
      "Prefix in list of string ['hello', 'hello india', 'hello world'] is hello\n"
     ]
    }
   ],
   "source": [
    "#Q34. Implement a function to find the longest common prefix among a list of strings.\n",
    "\n",
    "\n",
    "lst = [\"hello\",\"hello india\",\"hello world\"]\n",
    "\n",
    "small_str = min(filter(lambda s:len(s) , lst)) # finding smallest string.. for iteration\n",
    "#hel\n",
    "found=0\n",
    "found_str = \"\"\n",
    "\n",
    "for i in range(0,len(small_str)):       \n",
    "    for s in lst:    \n",
    "        if small_str[i] == s[i]:\n",
    "            found = found + 1 # flag for each element \n",
    "            continue\n",
    "        else:\n",
    "            break\n",
    "    if found == len(lst): # index of small_Str found in all element.. go for next..\n",
    "        found_str = found_str + small_str[i]\n",
    "        found = 0\n",
    "            \n",
    "    \n",
    "print(f\"Prefix in list of string {lst} is {found_str}\")"
   ]
  },
  {
   "cell_type": "code",
   "execution_count": 162,
   "id": "9c7a2be6",
   "metadata": {},
   "outputs": [
    {
     "data": {
      "text/plain": [
       "True"
      ]
     },
     "execution_count": 162,
     "metadata": {},
     "output_type": "execute_result"
    }
   ],
   "source": [
    "#Q35. Write a program to check if a given number is a perfect square.\n",
    "\n",
    "\n",
    "import math\n",
    "\n",
    "def is_perfect_square(num):\n",
    "    a = math.isqrt(num)\n",
    "    return a*a == num\n",
    "    \n",
    "is_perfect_square(9)  "
   ]
  },
  {
   "cell_type": "code",
   "execution_count": 163,
   "id": "318c9a1e",
   "metadata": {},
   "outputs": [
    {
     "data": {
      "text/plain": [
       "800"
      ]
     },
     "execution_count": 163,
     "metadata": {},
     "output_type": "execute_result"
    }
   ],
   "source": [
    "#Q36. Implement a function to calculate the product of all elements in a list.\n",
    "\n",
    "\n",
    "def product_elements(lst):\n",
    "    p = 1\n",
    "    for i in lst:\n",
    "        p *= i\n",
    "    return p\n",
    "\n",
    "product_elements([2,5,8,10])\n",
    "    "
   ]
  },
  {
   "cell_type": "code",
   "execution_count": 169,
   "id": "847dd0ca",
   "metadata": {},
   "outputs": [
    {
     "data": {
      "text/plain": [
       "'you are how'"
      ]
     },
     "execution_count": 169,
     "metadata": {},
     "output_type": "execute_result"
    }
   ],
   "source": [
    "#Q37. Write a Python program to reverse the order of words in a sentence while preserving the word order.\n",
    "\n",
    "def word_reverse(sentence):\n",
    "    words = sentence.split()\n",
    "    reverse = words[::-1]\n",
    "    return \" \".join(reverse)\n",
    "\n",
    "\n",
    "sentence = \"how are you\"\n",
    "word_reverse(sentence)"
   ]
  },
  {
   "cell_type": "code",
   "execution_count": 171,
   "id": "1e1c0294",
   "metadata": {},
   "outputs": [
    {
     "data": {
      "text/plain": [
       "5"
      ]
     },
     "execution_count": 171,
     "metadata": {},
     "output_type": "execute_result"
    }
   ],
   "source": [
    "#Q38. Implement a function to find the missing number in a given list of consecutive numbers.\n",
    "\n",
    "def missing_number(lst):\n",
    "    for i in range(1,len(lst)):\n",
    "        if lst[i]-1 != lst[i-1]:\n",
    "            return (lst[i-1]+1)\n",
    "        \n",
    "missing_number([2,3,4,6,7])"
   ]
  },
  {
   "cell_type": "code",
   "execution_count": 172,
   "id": "e3be81c7",
   "metadata": {},
   "outputs": [
    {
     "data": {
      "text/plain": [
       "15"
      ]
     },
     "execution_count": 172,
     "metadata": {},
     "output_type": "execute_result"
    }
   ],
   "source": [
    "#Q39. Write a program to find the sum of digits of a given number.\n",
    "\n",
    "def sum_digits(n):\n",
    "    str_n = str(n)\n",
    "    s = 0\n",
    "    \n",
    "    for i in str_n:\n",
    "        s += int(i)\n",
    "        \n",
    "    return s\n",
    "    \n",
    "sum_digits(12345)   "
   ]
  },
  {
   "cell_type": "code",
   "execution_count": 175,
   "id": "2e3118ca",
   "metadata": {},
   "outputs": [
    {
     "name": "stdout",
     "output_type": "stream",
     "text": [
      "Mom is not a palindrome word..\n"
     ]
    }
   ],
   "source": [
    "#Q 40. Implement a function to check if a given string is a valid palindrome considering case sensitivity.\n",
    "\n",
    "def ispalindrome(s1): \n",
    "\n",
    "    if s1 == s1[::-1]:\n",
    "        print(f\"{s1} is a palindrome word...\")\n",
    "    else:\n",
    "        print(f\"{s1} is not a palindrome word..\")\n",
    "        \n",
    "ispalindrome(\"Mom\")"
   ]
  },
  {
   "cell_type": "code",
   "execution_count": 179,
   "id": "c92627b3",
   "metadata": {},
   "outputs": [
    {
     "name": "stdout",
     "output_type": "stream",
     "text": [
      "smallest missing number is: 1\n"
     ]
    }
   ],
   "source": [
    "#Q41. Write a Python program to find the smallest missing positive integer in a list.\n",
    "\n",
    "\n",
    "def smallest_missing(lst):\n",
    "    for i in range(1,len(lst)):\n",
    "        if ((lst[i]-1) != lst[i-1] and (lst[i-1]+1 > 0)):\n",
    "            print(f\"smallest missing number is: {lst[i-1]+1}\")\n",
    "            break\n",
    "            \n",
    "\n",
    "m_l = [-2,0,2,4,5]\n",
    "smallest_missing(m_l)"
   ]
  },
  {
   "cell_type": "code",
   "execution_count": 191,
   "id": "0fe19bee",
   "metadata": {},
   "outputs": [
    {
     "name": "stdout",
     "output_type": "stream",
     "text": [
      "laccal\n"
     ]
    }
   ],
   "source": [
    "#Q42. Implement a function to find the longest palindrome substring in a given string.\n",
    "\n",
    "\n",
    "s = \"helloabccdahello\"\n",
    "palin = \"\"\n",
    "for i in range(0,len(s)): #counter from start\n",
    "    start = i\n",
    "    end = len(s)-i-1\n",
    "    \n",
    "    if s[start] == s[end]:\n",
    "        palin = palin + s[start]    \n",
    "        \n",
    "print(palin)\n",
    "\n"
   ]
  },
  {
   "cell_type": "code",
   "execution_count": 183,
   "id": "4c27f488",
   "metadata": {},
   "outputs": [
    {
     "data": {
      "text/plain": [
       "5"
      ]
     },
     "execution_count": 183,
     "metadata": {},
     "output_type": "execute_result"
    }
   ],
   "source": [
    "#Q43. Write a program to find the number of occurrences of a given element in a list.\n",
    "\n",
    "\n",
    "def number_occurances(lst,n):\n",
    "    occurance = {}\n",
    "    for ele in lst:\n",
    "        if ele in occurance:\n",
    "            occurance[ele] +=1\n",
    "        \n",
    "        else:\n",
    "            occurance[ele] = 1\n",
    "    return occurance[n]\n",
    "\n",
    "n_o = [8, 6, 8, 10, 8, 20, 10, 8, 8]\n",
    "element = 8\n",
    "number_occurances(n_o,element)"
   ]
  },
  {
   "cell_type": "code",
   "execution_count": 184,
   "id": "514e6ed7",
   "metadata": {},
   "outputs": [
    {
     "name": "stdout",
     "output_type": "stream",
     "text": [
      "Enter number for isperfect function:10\n",
      "Number is not perfect\n"
     ]
    }
   ],
   "source": [
    "#Q44. Implement a function to check if a given number is a perfect number.\n",
    "\n",
    "\n",
    "def isperfect_num(x):\n",
    "    lst = [1]\n",
    "    for i in range(2,x):\n",
    "        if(x%i) == 0:\n",
    "            lst.append(i)\n",
    "    s = sum(lst)\n",
    "    if (s == x):\n",
    "        return True\n",
    "    else:\n",
    "        return False\n",
    "\n",
    "\n",
    "n = int(input(\"Enter number for isperfect function:\"))\n",
    "print(\"Number is perfect\") if isperfect_num(n) else print(\"Number is not perfect\") "
   ]
  },
  {
   "cell_type": "code",
   "execution_count": 187,
   "id": "04f7a058",
   "metadata": {},
   "outputs": [
    {
     "name": "stdout",
     "output_type": "stream",
     "text": [
      "ban\n"
     ]
    }
   ],
   "source": [
    "#Q45. Write a Python program to remove all duplicates from a string.\n",
    "\n",
    "\n",
    "def duplicates(s):\n",
    "    new_s = \"\"\n",
    "    for i in s:\n",
    "        if i not in new_s:\n",
    "            new_s = new_s + i\n",
    "\n",
    "    print(new_s)\n",
    "\n",
    "s_d = \"banana\"\n",
    "duplicates(s_d)"
   ]
  },
  {
   "cell_type": "code",
   "execution_count": 190,
   "id": "c9939fdc",
   "metadata": {},
   "outputs": [
    {
     "name": "stdout",
     "output_type": "stream",
     "text": [
      "first missing number is: 3\n"
     ]
    }
   ],
   "source": [
    "#Q46. Implement a function to find the first missing positive\n",
    "\n",
    "def first_missing(lst):\n",
    "    for i in range(1,len(lst)):\n",
    "        if ((lst[i]-1) != lst[i-1] and (lst[i-1]+1 > 0)):\n",
    "            print(f\"first missing number is: {lst[i-1]+1}\")\n",
    "            break\n",
    "            \n",
    "\n",
    "f_m = [-2,0,1,2,4,5,8]\n",
    "first_missing(f_m)"
   ]
  },
  {
   "cell_type": "code",
   "execution_count": null,
   "id": "bc71e302",
   "metadata": {},
   "outputs": [],
   "source": []
  }
 ],
 "metadata": {
  "kernelspec": {
   "display_name": "Python 3 (ipykernel)",
   "language": "python",
   "name": "python3"
  },
  "language_info": {
   "codemirror_mode": {
    "name": "ipython",
    "version": 3
   },
   "file_extension": ".py",
   "mimetype": "text/x-python",
   "name": "python",
   "nbconvert_exporter": "python",
   "pygments_lexer": "ipython3",
   "version": "3.9.13"
  }
 },
 "nbformat": 4,
 "nbformat_minor": 5
}
